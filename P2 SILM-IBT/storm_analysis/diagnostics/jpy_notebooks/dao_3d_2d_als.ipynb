{
 "cells": [
  {
   "cell_type": "markdown",
   "metadata": {},
   "source": [
    "## Diagnostics for 3D-DAOSTORM (2d)"
   ]
  },
  {
   "cell_type": "markdown",
   "metadata": {},
   "source": [
    "### Configure environment"
   ]
  },
  {
   "cell_type": "code",
   "execution_count": null,
   "metadata": {},
   "outputs": [],
   "source": [
    "import os\n",
    "os.chdir(\"/home/hbabcock/Data/storm_analysis/sa_diagnostics/dao_3d_2d_als\")\n",
    "print(os.getcwd())"
   ]
  },
  {
   "cell_type": "code",
   "execution_count": null,
   "metadata": {},
   "outputs": [],
   "source": [
    "import storm_analysis.diagnostics.daostorm_3d.settings as settings\n",
    "import storm_analysis.diagnostics.daostorm_3d.configure as configure\n",
    "import storm_analysis.diagnostics.daostorm_3d.make_data as makeData\n",
    "import storm_analysis.diagnostics.daostorm_3d.analyze_data as analyzeData\n",
    "import storm_analysis.diagnostics.daostorm_3d.collate as collate\n"
   ]
  },
  {
   "cell_type": "code",
   "execution_count": null,
   "metadata": {},
   "outputs": [],
   "source": [
    "settings.photons = [[20, 500], [20, 1000]]\n",
    "print(settings.photons)\n",
    "\n",
    "settings.anscombe = 1\n",
    "settings.iterations = 20\n",
    "settings.model = '2d'\n",
    "settings.n_frames = 10\n",
    "settings.peak_locations = None\n"
   ]
  },
  {
   "cell_type": "markdown",
   "metadata": {},
   "source": [
    "### Configure"
   ]
  },
  {
   "cell_type": "code",
   "execution_count": null,
   "metadata": {},
   "outputs": [],
   "source": [
    "configure.configure()"
   ]
  },
  {
   "cell_type": "markdown",
   "metadata": {},
   "source": [
    "### Make Data"
   ]
  },
  {
   "cell_type": "code",
   "execution_count": null,
   "metadata": {},
   "outputs": [],
   "source": [
    "makeData.makeData()"
   ]
  },
  {
   "cell_type": "markdown",
   "metadata": {},
   "source": [
    "### Analyze data"
   ]
  },
  {
   "cell_type": "code",
   "execution_count": null,
   "metadata": {},
   "outputs": [],
   "source": [
    "%time analyzeData.analyzeData()"
   ]
  },
  {
   "cell_type": "markdown",
   "metadata": {},
   "source": [
    "### Collate data"
   ]
  },
  {
   "cell_type": "code",
   "execution_count": null,
   "metadata": {},
   "outputs": [],
   "source": [
    "collate.collate()"
   ]
  },
  {
   "cell_type": "markdown",
   "metadata": {},
   "source": [
    "### Reference results"
   ]
  },
  {
   "cell_type": "raw",
   "metadata": {},
   "source": [
    "2018-10-22\n",
    "commit cc58a659c37decf9ef473834e081492f1a5970a4 \n",
    "\n",
    "Processing test_01\n",
    "Using max_distance 200.0 nm for error calcuations.\n",
    "Processing test_02\n",
    "Using max_distance 200.0 nm for error calcuations.\n",
    "\n",
    "Analysis Summary:\n",
    "Processed 2520 localizations in 1.25 seconds, 2015.81/sec\n",
    "Recall 0.95238\n",
    "Noise 0.04762\n",
    "XY Error Standard Deviation (nm):\n",
    "test_01\t13.92\t13.67\n",
    "test_02\t8.03\t7.89\n",
    "\n",
    "XY RMSE (nm):\n",
    "test_01\t13.92\t13.68\n",
    "test_02\t8.03\t7.90\n",
    "\n",
    "XY Width Error, Mean difference with truth, Standard deviation (pixels):\n",
    "test_01\t0.028\t0.154\t0.028\t0.154\n",
    "test_02\t0.043\t0.164\t0.043\t0.164"
   ]
  }
 ],
 "metadata": {
  "kernelspec": {
   "display_name": "Python 3",
   "language": "python",
   "name": "python3"
  },
  "language_info": {
   "codemirror_mode": {
    "name": "ipython",
    "version": 3
   },
   "file_extension": ".py",
   "mimetype": "text/x-python",
   "name": "python",
   "nbconvert_exporter": "python",
   "pygments_lexer": "ipython3",
   "version": "3.6.6"
  }
 },
 "nbformat": 4,
 "nbformat_minor": 2
}
