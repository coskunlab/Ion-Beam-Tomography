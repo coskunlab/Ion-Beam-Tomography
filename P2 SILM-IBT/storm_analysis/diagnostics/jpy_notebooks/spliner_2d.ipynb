{
 "cells": [
  {
   "cell_type": "markdown",
   "metadata": {},
   "source": [
    "## Diagnostics for 2D Spliner"
   ]
  },
  {
   "cell_type": "markdown",
   "metadata": {},
   "source": [
    "### Configure environment"
   ]
  },
  {
   "cell_type": "code",
   "execution_count": null,
   "metadata": {},
   "outputs": [],
   "source": [
    "import os\n",
    "os.chdir(\"/home/hbabcock/Data/storm_analysis/sa_diagnostics/spliner_2d\")\n",
    "print(os.getcwd())"
   ]
  },
  {
   "cell_type": "code",
   "execution_count": null,
   "metadata": {},
   "outputs": [],
   "source": [
    "import storm_analysis.diagnostics.spliner_2d.settings as settings\n",
    "import storm_analysis.diagnostics.spliner_2d.configure as configure\n",
    "import storm_analysis.diagnostics.spliner_2d.make_data as makeData\n",
    "import storm_analysis.diagnostics.spliner_2d.analyze_data as analyzeData\n",
    "import storm_analysis.diagnostics.spliner_2d.collate as collate\n"
   ]
  },
  {
   "cell_type": "code",
   "execution_count": null,
   "metadata": {},
   "outputs": [],
   "source": [
    "settings.photons = [[20, 500], [20, 1000]]\n",
    "print(settings.photons)\n",
    "\n",
    "settings.iterations = 20\n",
    "settings.n_frames = 10\n",
    "settings.peak_locations = None\n"
   ]
  },
  {
   "cell_type": "markdown",
   "metadata": {},
   "source": [
    "### Configure"
   ]
  },
  {
   "cell_type": "code",
   "execution_count": null,
   "metadata": {},
   "outputs": [],
   "source": [
    "configure.configure(False)"
   ]
  },
  {
   "cell_type": "markdown",
   "metadata": {},
   "source": [
    "### Make Data"
   ]
  },
  {
   "cell_type": "code",
   "execution_count": null,
   "metadata": {},
   "outputs": [],
   "source": [
    "makeData.makeData()"
   ]
  },
  {
   "cell_type": "markdown",
   "metadata": {},
   "source": [
    "### Analyze data"
   ]
  },
  {
   "cell_type": "code",
   "execution_count": null,
   "metadata": {},
   "outputs": [],
   "source": [
    "%time analyzeData.analyzeData()"
   ]
  },
  {
   "cell_type": "markdown",
   "metadata": {},
   "source": [
    "### Collate data"
   ]
  },
  {
   "cell_type": "code",
   "execution_count": null,
   "metadata": {},
   "outputs": [],
   "source": [
    "collate.collate()"
   ]
  },
  {
   "cell_type": "markdown",
   "metadata": {},
   "source": [
    "### Reference results"
   ]
  },
  {
   "cell_type": "raw",
   "metadata": {},
   "source": [
    "2018-10-01\n",
    "commit 2dabb41ff5a5c1a9b1f0a575c039cf19d2c8e1d8\n",
    "\n",
    "Processing test_01\n",
    "Using max_distance 200.0 nm for error calcuations.\n",
    "Processing test_02\n",
    "Using max_distance 200.0 nm for error calcuations.\n",
    "\n",
    "Analysis Summary:\n",
    "Processed 2520 localizations in 1.22 seconds, 2065.48/sec\n",
    "Recall 0.95873\n",
    "Noise 0.04127\n",
    "XY Error Standard Deviation (nm):\n",
    "test_01\t13.43\t13.51\n",
    "test_02\t7.82\t8.07\n",
    "\n",
    "XY RMSE (nm):\n",
    "test_01\t13.43\t13.53\n",
    "test_02\t7.82\t8.07\n",
    "\n",
    "XY Width Error, Mean difference with truth, Standard deviation (pixels):\n",
    "test_01\t0.000\t0.000\t0.000\t0.000\n",
    "test_02\t0.000\t0.000\t0.000\t0.000"
   ]
  }
 ],
 "metadata": {
  "kernelspec": {
   "display_name": "Python 3",
   "language": "python",
   "name": "python3"
  },
  "language_info": {
   "codemirror_mode": {
    "name": "ipython",
    "version": 3
   },
   "file_extension": ".py",
   "mimetype": "text/x-python",
   "name": "python",
   "nbconvert_exporter": "python",
   "pygments_lexer": "ipython3",
   "version": "3.6.6"
  }
 },
 "nbformat": 4,
 "nbformat_minor": 2
}
